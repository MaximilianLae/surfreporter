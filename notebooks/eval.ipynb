{
 "cells": [
  {
   "cell_type": "code",
   "execution_count": null,
   "id": "84f287fb",
   "metadata": {},
   "outputs": [
    {
     "data": {
      "application/vnd.jupyter.widget-view+json": {
       "model_id": "add302a38f114eb18282c30e6483015b",
       "version_major": 2,
       "version_minor": 0
      },
      "text/plain": [
       "Param configs:   0%|          | 0/8 [00:00<?, ?it/s]"
      ]
     },
     "metadata": {},
     "output_type": "display_data"
    },
    {
     "data": {
      "application/vnd.jupyter.widget-view+json": {
       "model_id": "a1ea193a9c4c4428a2d7fd84dff1c56d",
       "version_major": 2,
       "version_minor": 0
      },
      "text/plain": [
       "Queries:   0%|          | 0/59 [00:00<?, ?it/s]"
      ]
     },
     "metadata": {},
     "output_type": "display_data"
    },
    {
     "data": {
      "application/vnd.jupyter.widget-view+json": {
       "model_id": "5bffe0a90794436abe8b3b87619cb1e0",
       "version_major": 2,
       "version_minor": 0
      },
      "text/plain": [
       "Queries:   0%|          | 0/59 [00:00<?, ?it/s]"
      ]
     },
     "metadata": {},
     "output_type": "display_data"
    },
    {
     "data": {
      "application/vnd.jupyter.widget-view+json": {
       "model_id": "09dbec02c11c4e3db8376f0080e022a5",
       "version_major": 2,
       "version_minor": 0
      },
      "text/plain": [
       "Queries:   0%|          | 0/59 [00:00<?, ?it/s]"
      ]
     },
     "metadata": {},
     "output_type": "display_data"
    },
    {
     "data": {
      "application/vnd.jupyter.widget-view+json": {
       "model_id": "0c7f44c3affa4b12857d968df2e777fb",
       "version_major": 2,
       "version_minor": 0
      },
      "text/plain": [
       "Queries:   0%|          | 0/59 [00:00<?, ?it/s]"
      ]
     },
     "metadata": {},
     "output_type": "display_data"
    },
    {
     "data": {
      "application/vnd.jupyter.widget-view+json": {
       "model_id": "1e36c41b04114a45b77d42b249c893be",
       "version_major": 2,
       "version_minor": 0
      },
      "text/plain": [
       "Queries:   0%|          | 0/59 [00:00<?, ?it/s]"
      ]
     },
     "metadata": {},
     "output_type": "display_data"
    },
    {
     "data": {
      "application/vnd.jupyter.widget-view+json": {
       "model_id": "94c3f6c0727946a8a0e8818d8934383a",
       "version_major": 2,
       "version_minor": 0
      },
      "text/plain": [
       "Queries:   0%|          | 0/59 [00:00<?, ?it/s]"
      ]
     },
     "metadata": {},
     "output_type": "display_data"
    },
    {
     "data": {
      "application/vnd.jupyter.widget-view+json": {
       "model_id": "e7c81231300d468895556d1bfae5ff45",
       "version_major": 2,
       "version_minor": 0
      },
      "text/plain": [
       "Queries:   0%|          | 0/59 [00:00<?, ?it/s]"
      ]
     },
     "metadata": {},
     "output_type": "display_data"
    },
    {
     "data": {
      "application/vnd.jupyter.widget-view+json": {
       "model_id": "0c733a8eba5241b1bee7fd43898419e1",
       "version_major": 2,
       "version_minor": 0
      },
      "text/plain": [
       "Queries:   0%|          | 0/59 [00:00<?, ?it/s]"
      ]
     },
     "metadata": {},
     "output_type": "display_data"
    },
    {
     "name": "stdout",
     "output_type": "stream",
     "text": [
      "## Final Evaluation Summary\n",
      "     model  temperature  top_k  faithfulness  answer_relevancy  \\\n",
      "0   gpt-4o          0.3      3      0.257175          0.801051   \n",
      "1   gpt-4o          0.3     10      0.272369          0.815170   \n",
      "2   gpt-4o          0.7      3      0.295014          0.831306   \n",
      "3   gpt-4o          0.7     10      0.270825          0.784918   \n",
      "4  o3-mini          0.3      3      0.365034          0.844974   \n",
      "5  o3-mini          0.3     10      0.405670          0.796703   \n",
      "6  o3-mini          0.7      3      0.485295          0.827477   \n",
      "7  o3-mini          0.7     10      0.436700          0.783967   \n",
      "\n",
      "   context_precision  \n",
      "0           0.454802  \n",
      "1           0.452448  \n",
      "2           0.460452  \n",
      "3           0.451507  \n",
      "4           0.454802  \n",
      "5           0.446798  \n",
      "6           0.454802  \n",
      "7           0.453390  \n"
     ]
    }
   ],
   "source": [
    "import json\n",
    "import pandas as pd\n",
    "from datasets import Dataset\n",
    "from itertools import product\n",
    "from tqdm.auto import tqdm\n",
    "\n",
    "from ragas import evaluate\n",
    "from ragas.metrics import faithfulness, answer_relevancy, context_precision\n",
    "\n",
    "from search import SurfSpotRetriever\n",
    "from forecast import get_weekend_forecast\n",
    "from report_generator import SurfReportGenerator\n",
    "\n",
    "with open(\"ground_truth_rag_surf.json\", \"r\", encoding=\"utf-8\") as f:\n",
    "    all_gt = json.load(f)\n",
    "\n",
    "forecast = get_weekend_forecast()\n",
    "\n",
    "generation_models = [\"gpt-4o\", \"o3-mini\"]\n",
    "temperatures      = [0.3, 0.7]\n",
    "top_ks            = [3, 10]\n",
    "\n",
    "all_summaries = []\n",
    "\n",
    "for gen_model, temperature, top_k in tqdm(\n",
    "    product(generation_models, temperatures, top_ks),\n",
    "    total=len(generation_models)*len(temperatures)*len(top_ks),\n",
    "    desc=\"Param configs\"\n",
    "):\n",
    "    \n",
    "    retriever = SurfSpotRetriever()\n",
    "    generator = SurfReportGenerator(\n",
    "        spots=[],  # placeholder, we'll fill per‐query\n",
    "        forecast=forecast,\n",
    "        generation_model=gen_model,\n",
    "        temperature=temperature\n",
    "    )\n",
    "\n",
    "    \n",
    "    rows = []\n",
    "    for item in tqdm(all_gt, desc=\"Queries\", leave=False):\n",
    "        q  = item[\"Query\"]\n",
    "        gt = item[\"Expected Answer\"]\n",
    "        \n",
    "        spots = retriever.retrieve_spots(\n",
    "            user_query=q,\n",
    "            preferred_direction=item[\"Direction of Wave\"],\n",
    "            preferred_bottom=item[\"Type of Bottom\"],\n",
    "            top_k=top_k\n",
    "        )\n",
    "        contexts = [s[\"description\"] for s in spots]\n",
    "        \n",
    "        answer = generator.generate_report(q)\n",
    "\n",
    "        rows.append({\n",
    "            \"question\":           q,\n",
    "            \"ground_truth\":       gt,\n",
    "            \"answer\":             answer,\n",
    "            \"retrieved_contexts\": contexts\n",
    "        })\n",
    "\n",
    "    # Build a HuggingFace Dataset for RAGAS\n",
    "    df = pd.DataFrame(rows)\n",
    "    ds = Dataset.from_pandas(df)\n",
    "\n",
    "    # RAGAS evaluation on the three selected metrics\n",
    "    results = evaluate(\n",
    "        ds,\n",
    "        metrics=[faithfulness, answer_relevancy, context_precision],\n",
    "        show_progress=False  \n",
    "    )\n",
    "\n",
    "    # Aggregate each metric’s mean score\n",
    "    summary = {\n",
    "        \"model\":            gen_model,\n",
    "        \"temperature\":      temperature,\n",
    "        \"top_k\":            top_k,\n",
    "        \"faithfulness\":     sum(results[\"faithfulness\"]) / len(results[\"faithfulness\"]),\n",
    "        \"answer_relevancy\": sum(results[\"answer_relevancy\"]) / len(results[\"answer_relevancy\"]),\n",
    "        \"context_precision\":sum(results[\"context_precision\"]) / len(results[\"context_precision\"])\n",
    "    }\n",
    "    all_summaries.append(summary)\n",
    "\n",
    "\n",
    "results_df = pd.DataFrame(all_summaries)\n",
    "\n",
    "\n",
    "print(\"## Final Evaluation Summary\")\n",
    "print(results_df)\n"
   ]
  },
  {
   "cell_type": "code",
   "execution_count": 2,
   "id": "a4b87e73",
   "metadata": {},
   "outputs": [],
   "source": [
    "results_df.to_pickle(\"full_eval_summary.pkl\")"
   ]
  },
  {
   "cell_type": "code",
   "execution_count": null,
   "id": "d939db4f",
   "metadata": {},
   "outputs": [],
   "source": []
  },
  {
   "cell_type": "code",
   "execution_count": null,
   "id": "54d40c21",
   "metadata": {},
   "outputs": [],
   "source": []
  }
 ],
 "metadata": {
  "kernelspec": {
   "display_name": "Python 3",
   "language": "python",
   "name": "python3"
  },
  "language_info": {
   "codemirror_mode": {
    "name": "ipython",
    "version": 3
   },
   "file_extension": ".py",
   "mimetype": "text/x-python",
   "name": "python",
   "nbconvert_exporter": "python",
   "pygments_lexer": "ipython3",
   "version": "3.12.8"
  }
 },
 "nbformat": 4,
 "nbformat_minor": 5
}
